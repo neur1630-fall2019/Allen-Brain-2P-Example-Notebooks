{
 "cells": [
  {
   "cell_type": "markdown",
   "metadata": {},
   "source": [
    "# Brain Observatory\n",
    "This notebook documents some classes and functions in the AllenSDK that help manipulate files and data structures in the Allen Brain Observatory.  The main entry point in the `BrainObservatoryCache` class.  This class is responsible for downloading any requested data or metadata on request and storing it in well known locations.\n",
    "\n",
    "Download this file in .ipynb format <a href='brain_observatory.ipynb'>here</a>."
   ]
  },
  {
   "cell_type": "markdown",
   "metadata": {},
   "source": [
    "## Experiment Containers\n",
    "The experiment container describes a set of experiments performed with the same targeted area, imaging depth, and Cre line.  The `BrainObservatoryCache` has a number of functions for figuring out what experiment containers are available at the moment."
   ]
  },
  {
   "cell_type": "code",
   "execution_count": 1,
   "metadata": {},
   "outputs": [
    {
     "name": "stderr",
     "output_type": "stream",
     "text": [
      "C:\\Users\\maxse\\Anaconda3\\lib\\site-packages\\dask\\config.py:168: YAMLLoadWarning: calling yaml.load() without Loader=... is deprecated, as the default Loader is unsafe. Please read https://msg.pyyaml.org/load for full details.\n",
      "  data = yaml.load(f.read()) or {}\n"
     ]
    },
    {
     "name": "stdout",
     "output_type": "stream",
     "text": [
      "all targeted structures: ['VISal', 'VISam', 'VISl', 'VISp', 'VISpm', 'VISrl']\n"
     ]
    }
   ],
   "source": [
    "from allensdk.core.brain_observatory_cache import BrainObservatoryCache\n",
    "import pprint\n",
    "\n",
    "# This class uses a 'manifest' to keep track of downloaded data and metadata.  \n",
    "# All downloaded files will be stored relative to the directory holding the manifest\n",
    "# file.  If 'manifest_file' is a relative path (as it is below), it will be \n",
    "# saved relative to your working directory.  It can also be an absolute path.\n",
    "boc = BrainObservatoryCache(manifest_file='boc/manifest.json')\n",
    "\n",
    "# Download a list of all targeted areas\n",
    "targeted_structures = boc.get_all_targeted_structures()\n",
    "print(\"all targeted structures: \" + str(targeted_structures))"
   ]
  },
  {
   "cell_type": "code",
   "execution_count": 2,
   "metadata": {},
   "outputs": [
    {
     "name": "stdout",
     "output_type": "stream",
     "text": [
      "all VISp experiment containers: 144\n"
     ]
    }
   ],
   "source": [
    "# Download experiment containers for VISp experiments\n",
    "visp_ecs = boc.get_experiment_containers(targeted_structures=['VISp'])\n",
    "print(\"all VISp experiment containers: %d\" % len(visp_ecs))"
   ]
  },
  {
   "cell_type": "code",
   "execution_count": 3,
   "metadata": {},
   "outputs": [
    {
     "name": "stdout",
     "output_type": "stream",
     "text": [
      "all imaging depths: [175, 185, 195, 200, 205, 225, 250, 265, 275, 276, 285, 300, 320, 325, 335, 350, 365, 375, 390, 400, 550, 570, 625]\n"
     ]
    }
   ],
   "source": [
    "# Download a list of all imaging depths\n",
    "depths = boc.get_all_imaging_depths()\n",
    "print(\"all imaging depths: \" + str(depths))"
   ]
  },
  {
   "cell_type": "code",
   "execution_count": 4,
   "metadata": {},
   "outputs": [
    {
     "name": "stdout",
     "output_type": "stream",
     "text": [
      "all stimuli:\n",
      "\n",
      "['drifting_gratings',\n",
      " 'locally_sparse_noise',\n",
      " 'locally_sparse_noise_4deg',\n",
      " 'locally_sparse_noise_8deg',\n",
      " 'natural_movie_one',\n",
      " 'natural_movie_three',\n",
      " 'natural_movie_two',\n",
      " 'natural_scenes',\n",
      " 'spontaneous',\n",
      " 'static_gratings']\n"
     ]
    }
   ],
   "source": [
    "# Download a list of all stimuli\n",
    "stims = boc.get_all_stimuli()\n",
    "print(\"all stimuli:\\n\")\n",
    "pprint.pprint(stims)"
   ]
  },
  {
   "cell_type": "code",
   "execution_count": 5,
   "metadata": {},
   "outputs": [
    {
     "name": "stdout",
     "output_type": "stream",
     "text": [
      "all cre lines:\n",
      "\n",
      "['Cux2-CreERT2',\n",
      " 'Emx1-IRES-Cre',\n",
      " 'Fezf2-CreER',\n",
      " 'Nr5a1-Cre',\n",
      " 'Ntsr1-Cre_GN220',\n",
      " 'Pvalb-IRES-Cre',\n",
      " 'Rbp4-Cre_KL100',\n",
      " 'Rorb-IRES2-Cre',\n",
      " 'Scnn1a-Tg3-Cre',\n",
      " 'Slc17a7-IRES2-Cre',\n",
      " 'Sst-IRES-Cre',\n",
      " 'Tlx3-Cre_PL56',\n",
      " 'Vip-IRES-Cre']\n"
     ]
    }
   ],
   "source": [
    "# Download a list of all cre driver lines \n",
    "cre_lines = boc.get_all_cre_lines()\n",
    "print(\"all cre lines:\\n\")\n",
    "pprint.pprint(cre_lines)"
   ]
  },
  {
   "cell_type": "code",
   "execution_count": 6,
   "metadata": {},
   "outputs": [
    {
     "name": "stdout",
     "output_type": "stream",
     "text": [
      "Cux2 experiments: 76\n",
      "\n",
      "Example experiment container record:\n",
      "{'cre_line': 'Cux2-CreERT2',\n",
      " 'donor_name': '222426',\n",
      " 'failed': False,\n",
      " 'id': 511510736,\n",
      " 'imaging_depth': 175,\n",
      " 'reporter_line': 'Ai93(TITL-GCaMP6f)',\n",
      " 'specimen_name': 'Cux2-CreERT2;Camk2a-tTA;Ai93-222426',\n",
      " 'tags': [],\n",
      " 'targeted_structure': 'VISp'}\n"
     ]
    }
   ],
   "source": [
    "# Download experiment containers for Cux2 experiments\n",
    "cux2_ecs = boc.get_experiment_containers(cre_lines=['Cux2-CreERT2'])\n",
    "print(\"Cux2 experiments: %d\\n\" % len(cux2_ecs))\n",
    "\n",
    "print(\"Example experiment container record:\")\n",
    "pprint.pprint(cux2_ecs[0])"
   ]
  },
  {
   "cell_type": "markdown",
   "metadata": {},
   "source": [
    "## Download Experiments for a Container\n",
    "An experiment container is a group of experiments.  Each experiment has a different stimulus protocol.  For example, one experiment protocol contains the static gratings stimulus and another has the natural scenes stimulus.  The `BrainObservatoryCache` helps you find out which experiment associated with a container has the stimuli you are interested in.  First, let's see what experiments are available for a single container."
   ]
  },
  {
   "cell_type": "code",
   "execution_count": 7,
   "metadata": {},
   "outputs": [
    {
     "name": "stdout",
     "output_type": "stream",
     "text": [
      "Experiments for experiment_container_id 511510736: 3\n",
      "\n",
      "[{'acquisition_age_days': 104,\n",
      "  'cre_line': 'Cux2-CreERT2',\n",
      "  'donor_name': '222426',\n",
      "  'experiment_container_id': 511510736,\n",
      "  'fail_eye_tracking': True,\n",
      "  'id': 501704220,\n",
      "  'imaging_depth': 175,\n",
      "  'reporter_line': 'Ai93(TITL-GCaMP6f)',\n",
      "  'session_type': 'three_session_A',\n",
      "  'specimen_name': 'Cux2-CreERT2;Camk2a-tTA;Ai93-222426',\n",
      "  'targeted_structure': 'VISp'},\n",
      " {'acquisition_age_days': 103,\n",
      "  'cre_line': 'Cux2-CreERT2',\n",
      "  'donor_name': '222426',\n",
      "  'experiment_container_id': 511510736,\n",
      "  'fail_eye_tracking': True,\n",
      "  'id': 501559087,\n",
      "  'imaging_depth': 175,\n",
      "  'reporter_line': 'Ai93(TITL-GCaMP6f)',\n",
      "  'session_type': 'three_session_B',\n",
      "  'specimen_name': 'Cux2-CreERT2;Camk2a-tTA;Ai93-222426',\n",
      "  'targeted_structure': 'VISp'},\n",
      " {'acquisition_age_days': 102,\n",
      "  'cre_line': 'Cux2-CreERT2',\n",
      "  'donor_name': '222426',\n",
      "  'experiment_container_id': 511510736,\n",
      "  'fail_eye_tracking': True,\n",
      "  'id': 501474098,\n",
      "  'imaging_depth': 175,\n",
      "  'reporter_line': 'Ai93(TITL-GCaMP6f)',\n",
      "  'session_type': 'three_session_C',\n",
      "  'specimen_name': 'Cux2-CreERT2;Camk2a-tTA;Ai93-222426',\n",
      "  'targeted_structure': 'VISp'}]\n"
     ]
    }
   ],
   "source": [
    "# Find all of the experiments for an experiment container\n",
    "cux2_ec_id = cux2_ecs[0]['id']\n",
    "exps = boc.get_ophys_experiments(experiment_container_ids=[cux2_ec_id])\n",
    "print(\"Experiments for experiment_container_id %d: %d\\n\" % (cux2_ec_id, len(exps)))\n",
    "pprint.pprint(exps)"
   ]
  },
  {
   "cell_type": "markdown",
   "metadata": {},
   "source": [
    "The `session_type` field indicates which experimental protocol was used.  If you just want to find which experiment contains the static gratings stimulus, you can do the following:"
   ]
  },
  {
   "cell_type": "code",
   "execution_count": 8,
   "metadata": {},
   "outputs": [
    {
     "name": "stdout",
     "output_type": "stream",
     "text": [
      "Experiment with static gratings:\n",
      "{'acquisition_age_days': 113,\n",
      " 'cre_line': 'Cux2-CreERT2',\n",
      " 'donor_name': '308148',\n",
      " 'experiment_container_id': 591392164,\n",
      " 'fail_eye_tracking': True,\n",
      " 'id': 592494159,\n",
      " 'imaging_depth': 175,\n",
      " 'reporter_line': 'Ai93(TITL-GCaMP6f)',\n",
      " 'session_type': 'three_session_B',\n",
      " 'specimen_name': 'Cux2-CreERT2;Camk2a-tTA;Ai93-308148',\n",
      " 'targeted_structure': 'VISrl'}\n"
     ]
    }
   ],
   "source": [
    "import allensdk.brain_observatory.stimulus_info as stim_info\n",
    "\n",
    "# pick one of the cux2 experiment containers\n",
    "cux2_ec_id = cux2_ecs[-1]['id']\n",
    "\n",
    "# Find the experiment with the static static gratings stimulus\n",
    "exp = boc.get_ophys_experiments(experiment_container_ids=[cux2_ec_id], \n",
    "                                stimuli=[stim_info.STATIC_GRATINGS])[0]\n",
    "print(\"Experiment with static gratings:\")\n",
    "pprint.pprint(exp)"
   ]
  },
  {
   "cell_type": "markdown",
   "metadata": {},
   "source": [
    "Now we can download the NWB file for this experiment."
   ]
  },
  {
   "cell_type": "code",
   "execution_count": null,
   "metadata": {},
   "outputs": [
    {
     "name": "stdout",
     "output_type": "stream",
     "text": [
      "{'age_days': 114,\n",
      " 'cre_line': 'Cux2-CreERT2/wt',\n",
      " 'device': 'Nikon A1R-MP multiphoton microscope',\n",
      " 'device_name': 'CAM2P.1',\n",
      " 'excitation_lambda': '910 nanometers',\n",
      " 'experiment_container_id': 591392164,\n",
      " 'fov': '400x400 microns (512 x 512 pixels)',\n",
      " 'genotype': 'Cux2-CreERT2/wt;Camk2a-tTA/wt;Ai93(TITL-GCaMP6f)/wt',\n",
      " 'imaging_depth_um': 175,\n",
      " 'indicator': 'GCaMP6f',\n",
      " 'ophys_experiment_id': 592494159,\n",
      " 'pipeline_version': '3.0',\n",
      " 'session_start_time': datetime.datetime(2017, 5, 31, 10, 29, 38),\n",
      " 'session_type': 'three_session_B',\n",
      " 'sex': 'female',\n",
      " 'specimen_name': 'Cux2-CreERT2;Camk2a-tTA;Ai93-308148',\n",
      " 'targeted_structure': 'VISrl'}\n"
     ]
    },
    {
     "name": "stderr",
     "output_type": "stream",
     "text": [
      "C:\\Users\\maxse\\Anaconda3\\lib\\site-packages\\h5py\\_hl\\dataset.py:313: H5pyDeprecationWarning: dataset.value has been deprecated. Use dataset[()] instead.\n",
      "  \"Use dataset[()] instead.\", H5pyDeprecationWarning)\n",
      "C:\\Users\\maxse\\Anaconda3\\lib\\site-packages\\h5py\\_hl\\dataset.py:313: H5pyDeprecationWarning: dataset.value has been deprecated. Use dataset[()] instead.\n",
      "  \"Use dataset[()] instead.\", H5pyDeprecationWarning)\n",
      "C:\\Users\\maxse\\Anaconda3\\lib\\site-packages\\h5py\\_hl\\dataset.py:313: H5pyDeprecationWarning: dataset.value has been deprecated. Use dataset[()] instead.\n",
      "  \"Use dataset[()] instead.\", H5pyDeprecationWarning)\n",
      "C:\\Users\\maxse\\Anaconda3\\lib\\site-packages\\h5py\\_hl\\dataset.py:313: H5pyDeprecationWarning: dataset.value has been deprecated. Use dataset[()] instead.\n",
      "  \"Use dataset[()] instead.\", H5pyDeprecationWarning)\n",
      "C:\\Users\\maxse\\Anaconda3\\lib\\site-packages\\h5py\\_hl\\dataset.py:313: H5pyDeprecationWarning: dataset.value has been deprecated. Use dataset[()] instead.\n",
      "  \"Use dataset[()] instead.\", H5pyDeprecationWarning)\n",
      "C:\\Users\\maxse\\Anaconda3\\lib\\site-packages\\h5py\\_hl\\dataset.py:313: H5pyDeprecationWarning: dataset.value has been deprecated. Use dataset[()] instead.\n",
      "  \"Use dataset[()] instead.\", H5pyDeprecationWarning)\n",
      "C:\\Users\\maxse\\Anaconda3\\lib\\site-packages\\h5py\\_hl\\dataset.py:313: H5pyDeprecationWarning: dataset.value has been deprecated. Use dataset[()] instead.\n",
      "  \"Use dataset[()] instead.\", H5pyDeprecationWarning)\n",
      "C:\\Users\\maxse\\Anaconda3\\lib\\site-packages\\h5py\\_hl\\dataset.py:313: H5pyDeprecationWarning: dataset.value has been deprecated. Use dataset[()] instead.\n",
      "  \"Use dataset[()] instead.\", H5pyDeprecationWarning)\n",
      "C:\\Users\\maxse\\Anaconda3\\lib\\site-packages\\h5py\\_hl\\dataset.py:313: H5pyDeprecationWarning: dataset.value has been deprecated. Use dataset[()] instead.\n",
      "  \"Use dataset[()] instead.\", H5pyDeprecationWarning)\n",
      "C:\\Users\\maxse\\Anaconda3\\lib\\site-packages\\h5py\\_hl\\dataset.py:313: H5pyDeprecationWarning: dataset.value has been deprecated. Use dataset[()] instead.\n",
      "  \"Use dataset[()] instead.\", H5pyDeprecationWarning)\n",
      "C:\\Users\\maxse\\Anaconda3\\lib\\site-packages\\h5py\\_hl\\dataset.py:313: H5pyDeprecationWarning: dataset.value has been deprecated. Use dataset[()] instead.\n",
      "  \"Use dataset[()] instead.\", H5pyDeprecationWarning)\n",
      "C:\\Users\\maxse\\Anaconda3\\lib\\site-packages\\h5py\\_hl\\dataset.py:313: H5pyDeprecationWarning: dataset.value has been deprecated. Use dataset[()] instead.\n",
      "  \"Use dataset[()] instead.\", H5pyDeprecationWarning)\n",
      "C:\\Users\\maxse\\Anaconda3\\lib\\site-packages\\h5py\\_hl\\dataset.py:313: H5pyDeprecationWarning: dataset.value has been deprecated. Use dataset[()] instead.\n",
      "  \"Use dataset[()] instead.\", H5pyDeprecationWarning)\n",
      "C:\\Users\\maxse\\Anaconda3\\lib\\site-packages\\h5py\\_hl\\dataset.py:313: H5pyDeprecationWarning: dataset.value has been deprecated. Use dataset[()] instead.\n",
      "  \"Use dataset[()] instead.\", H5pyDeprecationWarning)\n",
      "C:\\Users\\maxse\\Anaconda3\\lib\\site-packages\\h5py\\_hl\\dataset.py:313: H5pyDeprecationWarning: dataset.value has been deprecated. Use dataset[()] instead.\n",
      "  \"Use dataset[()] instead.\", H5pyDeprecationWarning)\n",
      "C:\\Users\\maxse\\Anaconda3\\lib\\site-packages\\h5py\\_hl\\dataset.py:313: H5pyDeprecationWarning: dataset.value has been deprecated. Use dataset[()] instead.\n",
      "  \"Use dataset[()] instead.\", H5pyDeprecationWarning)\n",
      "C:\\Users\\maxse\\Anaconda3\\lib\\site-packages\\h5py\\_hl\\dataset.py:313: H5pyDeprecationWarning: dataset.value has been deprecated. Use dataset[()] instead.\n",
      "  \"Use dataset[()] instead.\", H5pyDeprecationWarning)\n",
      "C:\\Users\\maxse\\Anaconda3\\lib\\site-packages\\h5py\\_hl\\dataset.py:313: H5pyDeprecationWarning: dataset.value has been deprecated. Use dataset[()] instead.\n",
      "  \"Use dataset[()] instead.\", H5pyDeprecationWarning)\n",
      "C:\\Users\\maxse\\Anaconda3\\lib\\site-packages\\h5py\\_hl\\dataset.py:313: H5pyDeprecationWarning: dataset.value has been deprecated. Use dataset[()] instead.\n",
      "  \"Use dataset[()] instead.\", H5pyDeprecationWarning)\n",
      "C:\\Users\\maxse\\Anaconda3\\lib\\site-packages\\h5py\\_hl\\dataset.py:313: H5pyDeprecationWarning: dataset.value has been deprecated. Use dataset[()] instead.\n",
      "  \"Use dataset[()] instead.\", H5pyDeprecationWarning)\n",
      "C:\\Users\\maxse\\Anaconda3\\lib\\site-packages\\h5py\\_hl\\dataset.py:313: H5pyDeprecationWarning: dataset.value has been deprecated. Use dataset[()] instead.\n",
      "  \"Use dataset[()] instead.\", H5pyDeprecationWarning)\n",
      "C:\\Users\\maxse\\Anaconda3\\lib\\site-packages\\h5py\\_hl\\dataset.py:313: H5pyDeprecationWarning: dataset.value has been deprecated. Use dataset[()] instead.\n",
      "  \"Use dataset[()] instead.\", H5pyDeprecationWarning)\n",
      "C:\\Users\\maxse\\Anaconda3\\lib\\site-packages\\h5py\\_hl\\dataset.py:313: H5pyDeprecationWarning: dataset.value has been deprecated. Use dataset[()] instead.\n",
      "  \"Use dataset[()] instead.\", H5pyDeprecationWarning)\n",
      "C:\\Users\\maxse\\Anaconda3\\lib\\site-packages\\h5py\\_hl\\dataset.py:313: H5pyDeprecationWarning: dataset.value has been deprecated. Use dataset[()] instead.\n",
      "  \"Use dataset[()] instead.\", H5pyDeprecationWarning)\n",
      "C:\\Users\\maxse\\Anaconda3\\lib\\site-packages\\h5py\\_hl\\dataset.py:313: H5pyDeprecationWarning: dataset.value has been deprecated. Use dataset[()] instead.\n",
      "  \"Use dataset[()] instead.\", H5pyDeprecationWarning)\n",
      "C:\\Users\\maxse\\Anaconda3\\lib\\site-packages\\h5py\\_hl\\dataset.py:313: H5pyDeprecationWarning: dataset.value has been deprecated. Use dataset[()] instead.\n",
      "  \"Use dataset[()] instead.\", H5pyDeprecationWarning)\n",
      "C:\\Users\\maxse\\Anaconda3\\lib\\site-packages\\h5py\\_hl\\dataset.py:313: H5pyDeprecationWarning: dataset.value has been deprecated. Use dataset[()] instead.\n",
      "  \"Use dataset[()] instead.\", H5pyDeprecationWarning)\n",
      "C:\\Users\\maxse\\Anaconda3\\lib\\site-packages\\h5py\\_hl\\dataset.py:313: H5pyDeprecationWarning: dataset.value has been deprecated. Use dataset[()] instead.\n",
      "  \"Use dataset[()] instead.\", H5pyDeprecationWarning)\n",
      "C:\\Users\\maxse\\Anaconda3\\lib\\site-packages\\h5py\\_hl\\dataset.py:313: H5pyDeprecationWarning: dataset.value has been deprecated. Use dataset[()] instead.\n",
      "  \"Use dataset[()] instead.\", H5pyDeprecationWarning)\n",
      "C:\\Users\\maxse\\Anaconda3\\lib\\site-packages\\h5py\\_hl\\dataset.py:313: H5pyDeprecationWarning: dataset.value has been deprecated. Use dataset[()] instead.\n",
      "  \"Use dataset[()] instead.\", H5pyDeprecationWarning)\n"
     ]
    }
   ],
   "source": [
    "exp = boc.get_ophys_experiment_data(exp['id'])\n",
    "\n",
    "# print out the metadata available in the NWB file\n",
    "pprint.pprint(exp.get_metadata())"
   ]
  },
  {
   "cell_type": "markdown",
   "metadata": {},
   "source": [
    "## Find Cells of Interest\n",
    "Another way to look for data is to search for cells with interesting tuning properties.  We have pre-computed a set of cell metrics.  Take a look at <a href='http://alleninstitute.github.io/AllenSDK/brain_observatory_metrics.html'>this page</a> to see the full list.\n",
    "\n",
    "You can use these properties to filter the full set of cells down to the set your are interested in."
   ]
  },
  {
   "cell_type": "code",
   "execution_count": null,
   "metadata": {},
   "outputs": [],
   "source": [
    "import pandas as pd\n",
    "\n",
    "# Download cells for a set of experiments and convert to DataFrame\n",
    "cells = boc.get_cell_specimens()\n",
    "cells = pd.DataFrame.from_records(cells)\n",
    "print(\"total cells: %d\" % len(cells))\n",
    "\n",
    "# find direction selective cells in VISp\n",
    "visp_ec_ids = [ ec['id'] for ec in visp_ecs ]\n",
    "visp_cells = cells[cells['experiment_container_id'].isin(visp_ec_ids)]\n",
    "print(\"VISp cells: %d\" % len(visp_cells))\n",
    "\n",
    "# significant response to drifting gratings stimulus\n",
    "sig_cells = visp_cells[visp_cells['p_dg'] < 0.05]\n",
    "print(\"cells with sig. response to drifting gratings: %d\" % len(sig_cells))\n",
    "\n",
    "# direction selective cells\n",
    "dsi_cells = sig_cells[(sig_cells['g_dsi_dg'] > 0.9)]\n",
    "print(\"direction-selective cells: %d\" % len(dsi_cells))"
   ]
  },
  {
   "cell_type": "markdown",
   "metadata": {},
   "source": [
    "## Find Experiments for Cells\n",
    "Once you have found a set of cells you would like to investigate, you can use the `BrainObservatoryCache` to find the experiments for those cells that contain the relevant stimulus."
   ]
  },
  {
   "cell_type": "code",
   "execution_count": null,
   "metadata": {},
   "outputs": [],
   "source": [
    "import allensdk.brain_observatory.stimulus_info as stim_info\n",
    "\n",
    "# find experiment containers for those cells\n",
    "dsi_ec_ids = dsi_cells['experiment_container_id'].unique()\n",
    "print(\"total dsi experiment containers: %d\" % len(dsi_ec_ids))\n",
    "\n",
    "# Download the ophys experiments containing the drifting gratings stimulus for VISp experiment containers\n",
    "dsi_exps = boc.get_ophys_experiments(experiment_container_ids=dsi_ec_ids, stimuli=[stim_info.DRIFTING_GRATINGS])\n",
    "print(\"VISp drifting gratings ophys experiments: %d\" % len(dsi_exps))\n",
    "\n",
    "print(\"Example ophys experiment:\")\n",
    "pprint.pprint(dsi_exps[0])"
   ]
  },
  {
   "cell_type": "markdown",
   "metadata": {},
   "source": [
    "## Download Experiment Data for a Cell\n",
    "Once you have some experiments, you can download the NWB files that contain the fluorescence traces for segmented cells in those experiments."
   ]
  },
  {
   "cell_type": "code",
   "execution_count": null,
   "metadata": {},
   "outputs": [],
   "source": [
    "# pick a direction-selective cell and find its NWB file\n",
    "dsi_cell = dsi_cells.iloc[0]\n",
    "\n",
    "# figure out which ophys experiment has the drifting gratings stimulus for that cell\n",
    "cell_exp = boc.get_ophys_experiments(cell_specimen_ids=[dsi_cell['cell_specimen_id']],\n",
    "                                     stimuli=[stim_info.DRIFTING_GRATINGS])[0]\n",
    "\n",
    "data_set = boc.get_ophys_experiment_data(cell_exp['id'])\n",
    "\n",
    "print(\"Metadata from NWB file:\")\n",
    "pprint.pprint(data_set.get_metadata())\n",
    "\n",
    "print(\"stimuli available in this file:\")\n",
    "print(data_set.list_stimuli())"
   ]
  },
  {
   "cell_type": "markdown",
   "metadata": {},
   "source": [
    "## Fluorescence Traces\n",
    "Now that we have a data set, we can plot the traces for the cell we care about."
   ]
  },
  {
   "cell_type": "code",
   "execution_count": null,
   "metadata": {},
   "outputs": [],
   "source": [
    "dsi_cell_id = dsi_cell['cell_specimen_id']\n",
    "time, raw_traces = data_set.get_fluorescence_traces(cell_specimen_ids=[dsi_cell_id])\n",
    "_, demixed_traces = data_set.get_demixed_traces(cell_specimen_ids=[dsi_cell_id])\n",
    "_, neuropil_traces = data_set.get_neuropil_traces(cell_specimen_ids=[dsi_cell_id])\n",
    "_, corrected_traces = data_set.get_corrected_fluorescence_traces(cell_specimen_ids=[dsi_cell_id])\n",
    "_, dff_traces = data_set.get_dff_traces(cell_specimen_ids=[dsi_cell_id])"
   ]
  },
  {
   "cell_type": "code",
   "execution_count": null,
   "metadata": {},
   "outputs": [],
   "source": [
    "from matplotlib import pyplot as plt\n",
    "%matplotlib inline\n",
    "\n",
    "# plot raw and corrected ROI trace\n",
    "plt.figure(figsize=(14,4))\n",
    "plt.title(\"Raw Fluorescence Trace\")\n",
    "plt.plot(time, raw_traces[0])\n",
    "plt.show()\n",
    "\n",
    "plt.figure(figsize=(14,4))\n",
    "plt.title(\"Demixed Fluorescence Trace\")\n",
    "plt.plot(time, demixed_traces[0])\n",
    "plt.show()\n",
    "\n",
    "plt.figure(figsize=(14,4))\n",
    "plt.title(\"Neuropil-corrected Fluorescence Trace\")\n",
    "plt.plot(time, corrected_traces[0])\n",
    "plt.show()\n",
    "\n",
    "plt.figure(figsize=(14,4))\n",
    "plt.title(\"dF/F Trace\")\n",
    "# warning: dF/F can occasionally be one element longer or shorter \n",
    "# than the time stamps for the original traces.\n",
    "plt.plot(time[:len(dff_traces[0])], dff_traces[0])\n",
    "plt.show()"
   ]
  },
  {
   "cell_type": "markdown",
   "metadata": {},
   "source": [
    "## ROI Masks\n",
    "If you want to take a look at the cell visually, you can open the NWB file and extract a pixel mask.  You can also pull out the maximum intensity projection of the movie for context."
   ]
  },
  {
   "cell_type": "code",
   "execution_count": null,
   "metadata": {},
   "outputs": [],
   "source": [
    "import matplotlib.pyplot as plt\n",
    "import numpy as np\n",
    "%matplotlib inline\n",
    "\n",
    "data_set = boc.get_ophys_experiment_data(510221121)\n",
    "\n",
    "# get the specimen IDs for a few cells\n",
    "cids = data_set.get_cell_specimen_ids()[:15:5]\n",
    "\n",
    "# get masks for specific cells\n",
    "roi_mask_list = data_set.get_roi_mask(cell_specimen_ids=cids)\n",
    "\n",
    "# plot each mask\n",
    "f, axes = plt.subplots(1, len(cids)+2, figsize=(15, 3))\n",
    "for ax, roi_mask, cid in zip(axes[:-2], roi_mask_list, cids):\n",
    "    ax.imshow(roi_mask.get_mask_plane(), cmap='gray')\n",
    "    ax.set_title('cell %d' % cid)\n",
    "\n",
    "# make a mask of all ROIs in the experiment    \n",
    "all_roi_masks = data_set.get_roi_mask_array()\n",
    "combined_mask = all_roi_masks.max(axis=0)\n",
    "\n",
    "axes[-2].imshow(combined_mask, cmap='gray')\n",
    "axes[-2].set_title('all ROIs')\n",
    "\n",
    "# show the movie max projection\n",
    "max_projection = data_set.get_max_projection()\n",
    "axes[-1].imshow(max_projection, cmap='gray')\n",
    "axes[-1].set_title('max projection')\n",
    "\n",
    "plt.show()"
   ]
  },
  {
   "cell_type": "markdown",
   "metadata": {},
   "source": [
    "## ROI Analysis\n",
    "The code to compute all of the cell metrics available for download (along with several others we haven't put in our database yet) is in the AllenSDK.  All you need is an NWB file.  For example, this is how you compute metrics for the drifting gratings stimulus and plot some results."
   ]
  },
  {
   "cell_type": "code",
   "execution_count": null,
   "metadata": {},
   "outputs": [],
   "source": [
    "from allensdk.brain_observatory.drifting_gratings import DriftingGratings\n",
    "\n",
    "# example loading drifing grating data\n",
    "data_set = boc.get_ophys_experiment_data(512326618)\n",
    "dg = DriftingGratings(data_set)\n",
    "dg_peak = dg.peak\n",
    "print(\"done analyzing drifting gratings\")"
   ]
  },
  {
   "cell_type": "code",
   "execution_count": null,
   "metadata": {},
   "outputs": [],
   "source": [
    "import numpy as np\n",
    "from matplotlib import pyplot as plt\n",
    "%matplotlib inline\n",
    "\n",
    "# filter for visually responding, selective cells\n",
    "vis_cells = (dg_peak.ptest_dg < 0.05) &  (dg_peak.peak_dff_dg > 3)\n",
    "osi_cells = vis_cells & (dg_peak.osi_dg > 0.5) & (dg_peak.osi_dg <= 1.5)\n",
    "dsi_cells = vis_cells & (dg_peak.dsi_dg > 0.5) & (dg_peak.dsi_dg <= 1.5)\n",
    "\n",
    "# 2-d tf vs. ori histogram\n",
    "# tfval = 0 is used for the blank sweep, so we are ignoring it here\n",
    "os = np.zeros((len(dg.orivals), len(dg.tfvals)-1))\n",
    "ds = np.zeros((len(dg.orivals), len(dg.tfvals)-1))\n",
    "\n",
    "for i,trial in dg_peak[osi_cells].iterrows():\n",
    "    os[trial.ori_dg, trial.tf_dg-1] += 1\n",
    "    \n",
    "for i,trial in dg_peak[dsi_cells].iterrows():\n",
    "    ds[trial.ori_dg, trial.tf_dg-1] += 1\n",
    "\n",
    "max_count = max(os.max(), ds.max())\n",
    "\n",
    "fig, (ax1, ax2) = plt.subplots(1,2)\n",
    "\n",
    "# plot direction selectivity\n",
    "im = ax1.imshow(ds, clim=[0,max_count], cmap='hot', interpolation='nearest')\n",
    "ax1.set_xlabel('temporal frequency')\n",
    "ax1.set_ylabel('direction')\n",
    "ax1.set_xticks(np.arange(len(dg.tfvals)-1))\n",
    "ax1.set_xticklabels(dg.tfvals[1:])\n",
    "ax1.set_yticks(np.arange(len(dg.orivals)))\n",
    "ax1.set_yticklabels(dg.orivals)\n",
    "ax1.set_title('direction selective cells')\n",
    "\n",
    "# plot orientation selectivity\n",
    "im = ax2.imshow(os, clim=[0,max_count], cmap='hot', interpolation='nearest')\n",
    "ax2.set_xlabel('temporal frequency')\n",
    "ax2.set_ylabel('orientation')\n",
    "ax2.set_xticks(np.arange(len(dg.tfvals)-1))\n",
    "ax2.set_xticklabels(dg.tfvals[1:])\n",
    "ax2.set_yticks(np.arange(len(dg.orivals)))\n",
    "ax2.set_yticklabels(dg.orivals)\n",
    "ax2.set_title('orientation selective cells')\n",
    "\n",
    "# plot a colorbar\n",
    "fig.subplots_adjust(right=0.9)\n",
    "cbar_ax = fig.add_axes([0.95, 0.05, 0.05, 0.85])\n",
    "cbar = fig.colorbar(im, cax=cbar_ax)\n",
    "cbar.set_ticks(np.arange(0, max_count, 2)+0.5)\n",
    "cbar.set_ticklabels(np.arange(0, max_count, 2, dtype=int))\n",
    "\n",
    "plt.show()"
   ]
  },
  {
   "cell_type": "markdown",
   "metadata": {},
   "source": [
    "## Neuropil Correction\n",
    "All of the raw fluorescence traces are available in NWB files, but some of these signals are contaminated by nearby neuropil signal.  Neuropil correction is performed after the signal from overlapping traces has been demixed.  The code to perform neuropil correction is available in the AllenSDK and can be used as follows:"
   ]
  },
  {
   "cell_type": "code",
   "execution_count": null,
   "metadata": {},
   "outputs": [],
   "source": [
    "from allensdk.brain_observatory.r_neuropil import estimate_contamination_ratios\n",
    "\n",
    "data_set = boc.get_ophys_experiment_data(569407590)\n",
    "csid = data_set.get_cell_specimen_ids()[0]\n",
    "\n",
    "time, demixed_traces = data_set.get_demixed_traces(cell_specimen_ids=[csid])\n",
    "_, neuropil_traces = data_set.get_neuropil_traces(cell_specimen_ids=[csid])\n",
    "\n",
    "results = estimate_contamination_ratios(demixed_traces[0], neuropil_traces[0])\n",
    "correction = demixed_traces[0] - results['r'] * neuropil_traces[0]\n",
    "print(\"r = %f\" % results['r'])\n",
    "print(\"max error = %f\" % results['err'])"
   ]
  },
  {
   "cell_type": "markdown",
   "metadata": {},
   "source": [
    "The NWB files contain the neuropil traces and `r` values needed to perform this correction, so you don't need to recompute them.  The corrected trace can be computed on the fly when you use the `get_corrected_fluorescence_traces` method:"
   ]
  },
  {
   "cell_type": "code",
   "execution_count": null,
   "metadata": {},
   "outputs": [],
   "source": [
    "_, corrected_traces = data_set.get_corrected_fluorescence_traces(cell_specimen_ids=[csid])\n",
    "\n",
    "plt.figure(figsize=(14,4))\n",
    "plt.title(\"Neuropil-corrected Fluorescence Trace\")\n",
    "plt.plot(time, corrected_traces[0])\n",
    "plt.show()"
   ]
  },
  {
   "cell_type": "markdown",
   "metadata": {},
   "source": [
    "## Compute dF/F\n",
    "You can compute dF/F for yourself using the `allensdk.brain_observatory.dff` module."
   ]
  },
  {
   "cell_type": "code",
   "execution_count": null,
   "metadata": {},
   "outputs": [],
   "source": [
    "from allensdk.brain_observatory.dff import compute_dff\n",
    "\n",
    "plt.figure(figsize=(14,4))\n",
    "plt.title(\"dF/F Trace\")\n",
    "dff = compute_dff(np.array(corrected_traces))\n",
    "plt.plot(time, dff[0,:])\n",
    "plt.show()"
   ]
  },
  {
   "cell_type": "markdown",
   "metadata": {},
   "source": [
    "## Running Speed\n",
    "We recorded the animal's running speed during the course of the experiment and made it available in the NWB file."
   ]
  },
  {
   "cell_type": "code",
   "execution_count": null,
   "metadata": {},
   "outputs": [],
   "source": [
    "from matplotlib import pyplot as plt\n",
    "%matplotlib inline\n",
    "\n",
    "data_set = boc.get_ophys_experiment_data(501940850)\n",
    "\n",
    "dxcm, dxtime = data_set.get_running_speed()\n",
    "plt.figure(figsize=(14,4))\n",
    "plt.plot(dxtime, dxcm)\n",
    "plt.show()"
   ]
  },
  {
   "cell_type": "markdown",
   "metadata": {},
   "source": [
    "## Motion Correction\n",
    "X and Y translation values in pixels required to correct for motion artifacts during the experiment are available as well."
   ]
  },
  {
   "cell_type": "code",
   "execution_count": null,
   "metadata": {},
   "outputs": [],
   "source": [
    "from matplotlib import pyplot as plt\n",
    "%matplotlib inline\n",
    "\n",
    "data_set = boc.get_ophys_experiment_data(501940850)\n",
    "\n",
    "mc = data_set.get_motion_correction()\n",
    "\n",
    "plt.figure(figsize=(14,4))\n",
    "plt.plot(mc.timestamp, mc.x_motion)\n",
    "plt.plot(mc.timestamp, mc.y_motion)\n",
    "plt.legend(['x motion','y motion'])\n",
    "plt.show()"
   ]
  },
  {
   "cell_type": "markdown",
   "metadata": {},
   "source": [
    "## Eye Tracking\n",
    "Many experiments contain pupil position and pupil size from eye tracking. Extreme outliers from the tracking have been removed and replaced with NaN, which will appear as gaps in the plotted data. If an experiment does not have eye tracking data, a NoEyeTrackingException will be raised."
   ]
  },
  {
   "cell_type": "code",
   "execution_count": null,
   "metadata": {},
   "outputs": [],
   "source": [
    "from allensdk.brain_observatory.brain_observatory_exceptions import NoEyeTrackingException\n",
    "from matplotlib import pyplot as plt\n",
    "%matplotlib inline\n",
    "\n",
    "# example with no eye tracking data\n",
    "data_set = boc.get_ophys_experiment_data(501940850)\n",
    "try:\n",
    "    timestamps, locations = data_set.get_pupil_location()\n",
    "except NoEyeTrackingException:\n",
    "    print(\"No eye tracking for experiment %s.\" % data_set.get_metadata()[\"ophys_experiment_id\"])\n",
    "\n",
    "data_set = boc.get_ophys_experiment_data(569407590)\n",
    "    \n",
    "# looking at azimuth and altitude over time\n",
    "# by default locations returned are (azimuth, altitude)\n",
    "# passing as_spherical=False to get_pupil_location will return (x,y) in cm\n",
    "timestamps, locations = data_set.get_pupil_location()\n",
    "plt.figure(figsize=(14,4))\n",
    "plt.plot(timestamps, locations.T[0])\n",
    "plt.plot(timestamps, locations.T[1])\n",
    "plt.title(\"Eye position over time\")\n",
    "plt.xlabel(\"time (s)\")\n",
    "plt.ylabel(\"angle (deg)\")\n",
    "plt.legend(['azimuth', 'altitude'])\n",
    "plt.show()\n",
    "\n",
    "#pupil size over time\n",
    "timestamps, area = data_set.get_pupil_size()\n",
    "plt.figure(figsize=(14,4))\n",
    "plt.plot(timestamps, area)\n",
    "plt.title(\"Pupil size over time\")\n",
    "plt.xlabel(\"time (s)\")\n",
    "plt.ylabel(\"area (px)\")\n",
    "plt.ylim(0, 20000)\n",
    "plt.show()\n",
    "\n",
    "# scatter of gaze positions over approximate screen area\n",
    "plt.figure()\n",
    "plt.scatter(locations.T[0], locations.T[1], s=2, c=\"m\", edgecolor=\"\")\n",
    "plt.title(\"Eye position scatter plot\")\n",
    "plt.xlim(-70, 70)\n",
    "plt.ylim(-60, 60)\n",
    "plt.xlabel(\"azimuth (deg)\")\n",
    "plt.ylabel(\"altitude (deg)\")\n",
    "plt.show()"
   ]
  }
 ],
 "metadata": {
  "kernelspec": {
   "display_name": "Python 3",
   "language": "python",
   "name": "python3"
  },
  "language_info": {
   "codemirror_mode": {
    "name": "ipython",
    "version": 3
   },
   "file_extension": ".py",
   "mimetype": "text/x-python",
   "name": "python",
   "nbconvert_exporter": "python",
   "pygments_lexer": "ipython3",
   "version": "3.7.3"
  }
 },
 "nbformat": 4,
 "nbformat_minor": 1
}
